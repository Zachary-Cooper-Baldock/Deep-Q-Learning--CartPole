{
 "cells": [
  {
   "cell_type": "markdown",
   "id": "cd5f281e",
   "metadata": {},
   "source": [
    "# Reinforcement Learning (DQN) Tutorial"
   ]
  },
  {
   "cell_type": "markdown",
   "id": "0022a613",
   "metadata": {},
   "source": [
    "This code shows how to use PyTorch to train a Deep Q Learning Network (DQN) agent on the CartPole-v1 task from OpenAI's Gymnasium. This is based off the tutorial provided here:\n",
    "\n",
    "https://docs.pytorch.org/tutorials/intermediate/reinforcement_q_learning.html\n",
    "\n",
    "The original DQN paper is [here](https://arxiv.org/abs/1312.5602)\n"
   ]
  },
  {
   "cell_type": "markdown",
   "id": "b56094fe",
   "metadata": {},
   "source": [
    "## Task\n",
    "\n",
    "The agent has to decide between two actions - moving the cart left or right - so that the pole attached to it stays upright. You can find more information about the environment and other more challenging environments at Gymnasium’s website.\n",
    "\n",
    "![CartPole](./Images/cartpole.gif \"CartPole\")\n",
    "\n",
    "As the agent observes the current state of the environment and chooses an action, the environment transitions to a new state, and also returns a reward that indicates the consequences of the action. In this task, rewards are +1 for every incremental timestep and the environment terminates if the pole falls over too far or the cart moves more than 2.4 units away from center. This means better performing scenarios will run for longer duration, accumulating larger return.\n",
    "\n",
    "The CartPole task is designed so that the inputs to the agent are 4 real values representing the environment state (position, velocity, etc.). We take these 4 inputs without any scaling and pass them through a small fully-connected network with 2 outputs, one for each action. The network is trained to predict the expected value for each action, given the input state. The action with the highest expected value is then chosen."
   ]
  },
  {
   "cell_type": "code",
   "execution_count": 20,
   "id": "813bbecf",
   "metadata": {},
   "outputs": [
    {
     "name": "stdout",
     "output_type": "stream",
     "text": [
      "Requirement already satisfied: gymnasium[classic_control] in c:\\users\\zacharycooper-baldoc\\onedrive - priorianalytica pty ltd\\desktop\\code\\.venv\\lib\\site-packages (1.2.0)\n",
      "Requirement already satisfied: numpy>=1.21.0 in c:\\users\\zacharycooper-baldoc\\onedrive - priorianalytica pty ltd\\desktop\\code\\.venv\\lib\\site-packages (from gymnasium[classic_control]) (2.3.2)\n",
      "Requirement already satisfied: cloudpickle>=1.2.0 in c:\\users\\zacharycooper-baldoc\\onedrive - priorianalytica pty ltd\\desktop\\code\\.venv\\lib\\site-packages (from gymnasium[classic_control]) (3.1.1)\n",
      "Requirement already satisfied: typing-extensions>=4.3.0 in c:\\users\\zacharycooper-baldoc\\onedrive - priorianalytica pty ltd\\desktop\\code\\.venv\\lib\\site-packages (from gymnasium[classic_control]) (4.12.2)\n",
      "Requirement already satisfied: farama-notifications>=0.0.1 in c:\\users\\zacharycooper-baldoc\\onedrive - priorianalytica pty ltd\\desktop\\code\\.venv\\lib\\site-packages (from gymnasium[classic_control]) (0.0.4)\n",
      "Requirement already satisfied: pygame>=2.1.3 in c:\\users\\zacharycooper-baldoc\\onedrive - priorianalytica pty ltd\\desktop\\code\\.venv\\lib\\site-packages (from gymnasium[classic_control]) (2.6.1)\n"
     ]
    },
    {
     "name": "stderr",
     "output_type": "stream",
     "text": [
      "\n",
      "[notice] A new release of pip is available: 25.0.1 -> 25.2\n",
      "[notice] To update, run: python.exe -m pip install --upgrade pip\n"
     ]
    }
   ],
   "source": [
    "# Pip install gymnasium. This is a fork of the original OpenAI Gym library.\n",
    "!pip install gymnasium[classic_control]"
   ]
  },
  {
   "cell_type": "code",
   "execution_count": 4,
   "id": "881c542b",
   "metadata": {},
   "outputs": [],
   "source": [
    "# Import required libraries\n",
    "import gymnasium as gym\n",
    "import math\n",
    "import random\n",
    "import matplotlib.pyplot as plt\n",
    "from collections import namedtuple, deque\n",
    "from itertools import count\n",
    "\n",
    "# Torch imports\n",
    "import torch\n",
    "import torch.nn as nn\n",
    "import torch.optim as optim\n",
    "import torch.nn.functional as F"
   ]
  },
  {
   "cell_type": "code",
   "execution_count": 5,
   "id": "d0647067",
   "metadata": {},
   "outputs": [],
   "source": [
    "# Set environment\n",
    "env = gym.make(\"CartPole-v1\")"
   ]
  },
  {
   "cell_type": "code",
   "execution_count": 6,
   "id": "af719f87",
   "metadata": {},
   "outputs": [
    {
     "data": {
      "text/plain": [
       "<contextlib.ExitStack at 0x151257524b0>"
      ]
     },
     "execution_count": 6,
     "metadata": {},
     "output_type": "execute_result"
    }
   ],
   "source": [
    "# Setup matplotlib correctly\n",
    "is_ipython = 'inline' in plt.get_backend()\n",
    "if is_ipython:\n",
    "    from IPython import display\n",
    "\n",
    "plt.ion()"
   ]
  },
  {
   "cell_type": "code",
   "execution_count": 8,
   "id": "ab1ec624",
   "metadata": {},
   "outputs": [
    {
     "name": "stdout",
     "output_type": "stream",
     "text": [
      "Using device: cuda\n"
     ]
    }
   ],
   "source": [
    "# GPU detection\n",
    "device = torch.device(\n",
    "    \"cuda\" if torch.cuda.is_available() else \n",
    "    \"mps\" if torch.backends.mps.is_available() else \n",
    "    \"cpu\"\n",
    ")\n",
    "\n",
    "print(f\"Using device: {device}\")"
   ]
  },
  {
   "cell_type": "code",
   "execution_count": 9,
   "id": "e4c50793",
   "metadata": {},
   "outputs": [],
   "source": [
    "# To ensure reproducibility during training, you can fix the random seeds\n",
    "# by uncommenting the lines below. This makes the results consistent across\n",
    "# runs, which is helpful for debugging or comparing different approaches.\n",
    "#\n",
    "# That said, allowing randomness can be beneficial in practice, as it lets\n",
    "# the model explore different training trajectories.\n",
    "\n",
    "seed = 42\n",
    "random.seed(seed)\n",
    "torch.manual_seed(seed)\n",
    "env.reset(seed=seed)\n",
    "env.action_space.seed(seed)\n",
    "env.observation_space.seed(seed)\n",
    "if torch.cuda.is_available():\n",
    "    torch.cuda.manual_seed(seed)"
   ]
  },
  {
   "cell_type": "markdown",
   "id": "895024ef",
   "metadata": {},
   "source": [
    "## Replay Memory\n",
    "\n",
    "We'll be using experience replay memory for training the DQN. This stores the transitions that the agent observes. This transition data can be reused later. By sampling from it randomly, the transitions that build up a batch are de-correlated from each other. It has been shown to stabilize and improve DQN training.\n",
    "\n",
    "We need two classes to enable this:\n",
    "- `Transition`: A named tuple representing a single transition in the environment. It maps (state, action) pairs to their (next_state, reward) results. The state is the screen difference image as described later on.\n",
    "- `ReplayMemory`: A cyclic buffer of bounded size that holds transitions observed recently. Implements a `.sample()` method for selecting a random batch of transitions for training."
   ]
  },
  {
   "cell_type": "code",
   "execution_count": 11,
   "id": "cf08dc7a",
   "metadata": {},
   "outputs": [],
   "source": [
    "Transition = namedtuple('Transition',\n",
    "                        ('state', 'action',\n",
    "                        'next_state', 'reward'))\n",
    "\n",
    "class ReplayMemory(object):\n",
    "\n",
    "    def __init__(self, capacity):\n",
    "        self.memory = deque([], maxlen=capacity)\n",
    "\n",
    "    def push(self, *args):\n",
    "        # Save a transition\n",
    "        self.memory.append(Transition(*args))\n",
    "\n",
    "    def sample(self, batch_size):\n",
    "        return random.sample(self.memory, batch_size)\n",
    "    \n",
    "    def __len__(self):\n",
    "        return len(self.memory)"
   ]
  },
  {
   "cell_type": "markdown",
   "id": "99c97d57",
   "metadata": {},
   "source": [
    "## DQN Algorithm\n",
    "\n",
    "The environment is deterministic. All equations presented here are then formulated deterministically for the sake of simplicity. In RL literature, they would also contain expectations over stochastic transitions in the environment. \n",
    "\n",
    "The aim is to train a policy that tries to maximise the discounted, cumulative reward ($R_{t_0} = \\sum^{\\infty}_{t=t_0} \\gamma^{t-t_0} r_t$). $R_{t_0}$ is the return. The discount $\\gamma$ should be constant between 0 and 1 and ensures that the cumulative sum converges. A lower $\\gamma$ makes the rewards from the uncertain far future less important for our agent than the ones in the near future that it can be fairly confident about. It encourages agents to collect reward closer in time than equivalent rewards that are temporally far away in the future. \n",
    "\n",
    "The main idea behind Q-learning is that if we have a function $Q* : \\text{State} \\times \\text{Action} \\rightarrow \\mathcal{R}$, that could tell us what the return would be. If we were to take an action in a given state then we could construct a policy that maximises the rewards:\n",
    "\n",
    "$\\pi^{*}(s) = arg \\underset{a}{max} \\ Q^{*}(s, a)$\n",
    "\n",
    "However, given limited knowledge of the world, we do not have access to $Q^{*}$. Since neural networks are universal function approximators, we can create a deep network and train it to resemble $Q^{*}$. For the training update rule, we'll use a fact that every Q function for some policy obeys the Bellman equation:\n",
    "\n",
    "$Q^{\\pi} (s, a) = r + \\gamma Q^{\\pi} (s', \\pi(s')) $\n",
    "\n",
    "The difference between the two sides of the equality is known as the temporal difference error, $\\delta$:\n",
    "\n",
    "$\\delta = Q(s, a) - (r + \\gamma \\ \\underset{a}{\\overset{'}{max}} \\ Q(\\overset{'}{s}, a)) $\n",
    "\n",
    "To minimise this error, we use the Huber loss. The Huber loss acts like the MSE loss function when the error is small, but like MAE when the error is large. This makes it more robust to outliers when the estimates of $Q$ are very noisy. We calculate this over a batch of transitions, $B$, samples from the replay memory:\n",
    "\n",
    "$\\mathcal{L} = \\frac{1}{|B|} \\underset{(s,a,s',r) \\in B}{\\sum}$\n",
    "\n",
    "Where:\n",
    "\n",
    "$\\mathcal{L}(\\delta) = \\begin{cases} \\frac{1}{2} \\delta^2 & \\text{for} |\\delta| \\leq 1, \\\\ |\\delta| - \\frac{1}{2} & \\text{otherwise.} \\end{cases} $\n",
    "\n"
   ]
  },
  {
   "cell_type": "markdown",
   "id": "fe08db5e",
   "metadata": {},
   "source": [
    "## Q-network\n",
    "\n",
    "The model used here is a feed-forward neural network that takes in the difference between the current and previous screen patches. It has two outputs, $Q(s, \\text{left})$ and $Q(s, \\text{right})$ where $s$ is the input to the network. The network is trying to predict the expected return of taking each action given the current input."
   ]
  },
  {
   "cell_type": "code",
   "execution_count": 14,
   "id": "a587bdc5",
   "metadata": {},
   "outputs": [],
   "source": [
    "# Q-Network (FFNN)\n",
    "\n",
    "class DQN(nn.Module):\n",
    "\n",
    "    def __init__(self, n_observations, n_actions):\n",
    "        super(DQN, self).__init__()\n",
    "        self.layer1 = nn.Linear(n_observations, 128)\n",
    "        self.layer2 = nn.Linear(128, 128)\n",
    "        self.layer3 = nn.Linear(128, n_actions)\n",
    "\n",
    "    # Called with one element to determine next action.\n",
    "    # Called with a batch during optimisation.\n",
    "    # Returns tensor([[left0exp, right0exp]...]).\n",
    "    def forward(self, x):\n",
    "        x = F.relu(self.layer1(x))\n",
    "        x = F.relu(self.layer2(x))\n",
    "        return self.layer3(x)\n"
   ]
  },
  {
   "cell_type": "markdown",
   "id": "0858b432",
   "metadata": {},
   "source": [
    "## Training\n",
    "\n",
    "### Hyperparameters and utilities\n",
    "\n",
    "This cell instantiates the model, optimiser and defines utilities:\n",
    "- `select_action`: Will select an action according to an epsilon greedy policy. Simply put, we'll sometimes use our model for choosing the action and sometimes we will sample uniformly. The probability of choosing a random action will start at `EPS_START` and will decay exponentially towards `EPS_END`. `EPS_DECAY` controls the rate of the decay.\n",
    "- `plot_durations`: A helper for plotting the duration of episodes, along with an average over the last 100 episodes (the measure used in the official evaluations). This plot will be underneath the cell containing the main training loop, and we will update after every episode."
   ]
  },
  {
   "cell_type": "code",
   "execution_count": 12,
   "id": "8a7e2e42",
   "metadata": {},
   "outputs": [],
   "source": [
    "BATCH_SIZE = 128      # BATCH_SIZE is the number of transitions sampled from the replay buffer\n",
    "GAMMA      = 0.99     # GAMMA is the discount factor as mentioned in the previous section\n",
    "EPS_START  = 0.90     # EPS_START is the starting value of epsilon\n",
    "EPS_END    = 0.01     # EPS_END is the final value of epsilon\n",
    "EPS_DECAY  = 2500     # EPS_DECAY controls the rate of exponential decay of epsilon, higher means a slower decay\n",
    "TAU        = 0.005    # TAU is the update rate of the target network\n",
    "LR         = 3e-4     # LR is the learning rate of the ``AdamW`` optimizer"
   ]
  },
  {
   "cell_type": "code",
   "execution_count": 15,
   "id": "f51bf92b",
   "metadata": {},
   "outputs": [],
   "source": [
    "# Get number of actions from gym action space\n",
    "n_actions = env.action_space.n\n",
    "\n",
    "# Get the number of state observations\n",
    "state, info = env.reset()\n",
    "n_observations = len(state)\n",
    "\n",
    "# Initialize policy and target networks\n",
    "policy_net = DQN(n_observations, n_actions).to(device)\n",
    "target_net = DQN(n_observations, n_actions).to(device)\n",
    "target_net.load_state_dict(policy_net.state_dict())\n",
    "\n",
    "# Define optimizer, memory and steps\n",
    "optimizer = optim.AdamW(policy_net.parameters(), lr=LR, amsgrad=True)\n",
    "memory = ReplayMemory(10000)\n",
    "steps_done = 0"
   ]
  },
  {
   "cell_type": "code",
   "execution_count": 16,
   "id": "83124483",
   "metadata": {},
   "outputs": [],
   "source": [
    "# Define the action selection\n",
    "def select_action(state):\n",
    "\n",
    "    global steps_done\n",
    "    sample = random.random()\n",
    "    eps_threshold = EPS_END + (EPS_START - EPS_END) * \\\n",
    "        math.exp(-1. * steps_done / EPS_DECAY)\n",
    "    steps_done += 1\n",
    "\n",
    "    if sample > eps_threshold:\n",
    "        with torch.no_grad():\n",
    "            # t.max(1) will return the largest column value of each row.\n",
    "            # second column on max result is index of where max element was\n",
    "            # found, so we pick action with the larger expected reward.\n",
    "            return policy_net(state).max(1).indices.view(1, 1)\n",
    "    else:\n",
    "        return torch.tensor([[env.action_space.sample()]], device=device, dtype=torch.long)"
   ]
  },
  {
   "cell_type": "code",
   "execution_count": null,
   "id": "e139ced3",
   "metadata": {},
   "outputs": [],
   "source": [
    "# Plot episode durations\n",
    "episode_durations = []\n",
    "\n",
    "def plot_durations(show_result=False):\n",
    "    \n",
    "    # Initialise figure\n",
    "    plt.figure(1)\n",
    "\n",
    "    # Get time durations\n",
    "    durations_t = torch.tensor(episode_durations, dtype=torch.float)\n",
    "    \n",
    "    if show_result:\n",
    "        plt.title('Result')\n",
    "    else:\n",
    "        plt.clf()\n",
    "        plt.title('Training...')\n",
    "    plt.xlabel('Episode')\n",
    "    plt.ylabel('Balancing Duration')\n",
    "    plt.plot(durations_t.numpy())\n",
    "    \n",
    "    # Take 100 episode averages and plot them too\n",
    "    if len(durations_t) >= 100:\n",
    "        means = durations_t.unfold(0, 100, 1).mean(1).view(-1)\n",
    "        means = torch.cat((torch.zeros(99), means))\n",
    "        plt.plot(means.numpy())\n",
    "\n",
    "    plt.pause(0.001)  # pause a bit so that plots are updated\n",
    "    if is_ipython:\n",
    "        if not show_result:\n",
    "            display.display(plt.gcf())\n",
    "            display.clear_output(wait=True)\n",
    "        else:\n",
    "            display.display(plt.gcf())"
   ]
  },
  {
   "cell_type": "markdown",
   "id": "48d84227",
   "metadata": {},
   "source": [
    "## Training loop\n",
    "\n",
    "The code is now ready to train the model.\n",
    "\n",
    "This is the `optimise_model` function that performs a single step of the optimisation. It first samples a batch, concatenates all the tensors into a single one, computes $Q (s_t, a_t)$ and $V(s_{t+1}) = max_a Q(s_{t+1}, a)$ and combines them into our loss (Huber). We set $V(s) = 0$ if $s$ is a terminal state. We also use a target network to comput $V(s_{t+1})$ for added stability. The target network is updated every step with a soft update controlled by the hyperparameter `TAU`, which has been defined above. "
   ]
  },
  {
   "cell_type": "code",
   "execution_count": 18,
   "id": "d1b4388b",
   "metadata": {},
   "outputs": [],
   "source": [
    "def optimize_model():\n",
    "    if len(memory) < BATCH_SIZE:\n",
    "        return\n",
    "    transitions = memory.sample(BATCH_SIZE)\n",
    "\n",
    "    # Transpose the batch (see https://stackoverflow.com/a/19343/3343043 for\n",
    "    # detailed explanation). This converts batch-array of Transitions\n",
    "    # to Transition of batch-arrays.\n",
    "    batch = Transition(*zip(*transitions))\n",
    "\n",
    "    # Compute a mask of non-final states and concatenate the batch elements\n",
    "    # (a final state would've been the one after which simulation ended)\n",
    "    non_final_mask = torch.tensor(tuple(map(lambda s: s is not None, batch.next_state)), device=device, dtype=torch.bool)\n",
    "    non_final_next_states = torch.cat([s for s in batch.next_state if s is not None])\n",
    "    state_batch = torch.cat(batch.state)\n",
    "    action_batch = torch.cat(batch.action)\n",
    "    reward_batch = torch.cat(batch.reward)\n",
    "\n",
    "    # Compute Q(s_t, a) - the model computes Q(s_t), then we select the\n",
    "    # columns of actions taken. These are the actions which would've been taken\n",
    "    # for each batch state according to policy_net\n",
    "    state_action_values = policy_net(state_batch).gather(1, action_batch)\n",
    "\n",
    "    # Compute V(s_{t+1}) for all next states.\n",
    "    # Expected values of actions for non_final_next_states are computed based\n",
    "    # on the \"older\" target_net; selecting their best reward with max(1).values\n",
    "    # This is merged based on the mask, such that we'll have either the expected\n",
    "    # state value or 0 in case the state was final.\n",
    "    next_state_values = torch.zeros(BATCH_SIZE, device=device)\n",
    "    with torch.no_grad():\n",
    "        next_state_values[non_final_mask] = target_net(non_final_next_states).max(1).values\n",
    "    \n",
    "    # Compute the expected Q values\n",
    "    expected_state_action_values = (next_state_values * GAMMA) + reward_batch\n",
    "\n",
    "    # Compute Huber loss\n",
    "    criterion = nn.SmoothL1Loss()\n",
    "    loss = criterion(state_action_values, expected_state_action_values.unsqueeze(1))\n",
    "\n",
    "    # Optimize the model\n",
    "    optimizer.zero_grad()\n",
    "    loss.backward()\n",
    "    \n",
    "    # In-place gradient clipping\n",
    "    torch.nn.utils.clip_grad_value_(policy_net.parameters(), 100)\n",
    "    optimizer.step()"
   ]
  },
  {
   "cell_type": "markdown",
   "id": "1b978846",
   "metadata": {},
   "source": [
    "## Main Training Loop\n",
    "\n",
    "At the beginning, we reset the environment and obtain the initial `state` tensor. Then, we sample an action, execute it, observe the next state and the reward (always 1), and optimise the model once. When the episode ends (our model fails), we restart the loop.\n",
    "\n",
    "Belowm `num_episodes` is set to 600 if a GPU is availablem otherwise 50 are used to it does not take too long on a slower CPU. However, 50 episodes is insufficient to get good performance on CartPole. You should see the model consistently achieve 500 steps within 600 training episodes.\n",
    "\n",
    "Training RL agents can be a noisy process, so restarting training can produce better results if convergence is not observed. "
   ]
  },
  {
   "cell_type": "code",
   "execution_count": 19,
   "id": "b0687f02",
   "metadata": {},
   "outputs": [
    {
     "name": "stdout",
     "output_type": "stream",
     "text": [
      "Complete\n"
     ]
    },
    {
     "data": {
      "image/png": "[encoded data removed]",
      "text/plain": [
       "<Figure size 640x480 with 1 Axes>"
      ]
     },
     "metadata": {},
     "output_type": "display_data"
    },
    {
     "data": {
      "text/plain": [
       "<Figure size 640x480 with 0 Axes>"
      ]
     },
     "metadata": {},
     "output_type": "display_data"
    },
    {
     "data": {
      "text/plain": [
       "<Figure size 640x480 with 0 Axes>"
      ]
     },
     "metadata": {},
     "output_type": "display_data"
    }
   ],
   "source": [
    "# Set the number of episodes (GPU or CPU detection)\n",
    "if torch.cuda.is_available() or torch.backends.mps.is_available():\n",
    "    num_episodes = 600\n",
    "else:\n",
    "    num_episodes = 50\n",
    "\n",
    "\n",
    "# Training iterations (MAIN LOOP)\n",
    "for i_episode in range(num_episodes):\n",
    "\n",
    "    # Initialise the environment and get its state\n",
    "    state, info = env.reset()\n",
    "    state = torch.tensor(state, dtype=torch.float32, device=device).unsqueeze(0)\n",
    "\n",
    "    # Take actions\n",
    "    for t in count():\n",
    "\n",
    "        # Select action\n",
    "        action = select_action(state)\n",
    "        \n",
    "        # Execute action in the environment\n",
    "        observation, reward, terminated, truncated, _ = env.step(action.item())\n",
    "\n",
    "        # Get the reward (correct format)\n",
    "        reward = torch.tensor([reward], device=device)\n",
    "        done = terminated or truncated\n",
    "\n",
    "        # Progress to next state (if applicable)\n",
    "        if terminated:\n",
    "            next_state = None\n",
    "        else:\n",
    "            next_state = torch.tensor(observation, dtype=torch.float32, device=device).unsqueeze(0)\n",
    "\n",
    "        # Store the transition in memory\n",
    "        memory.push(state, action, next_state, reward)\n",
    "\n",
    "        # Move to the next state\n",
    "        state = next_state\n",
    "\n",
    "        # Perform one step of the optimization (on the policy network)\n",
    "        optimize_model()\n",
    "\n",
    "        # Soft update of the target network's weights\n",
    "        # θ′ ← τ θ + (1 −τ )θ′\n",
    "        target_net_state_dict = target_net.state_dict()\n",
    "        policy_net_state_dict = policy_net.state_dict()\n",
    "        for key in policy_net_state_dict:\n",
    "            target_net_state_dict[key] = policy_net_state_dict[key]*TAU + target_net_state_dict[key]*(1-TAU)\n",
    "        target_net.load_state_dict(target_net_state_dict)\n",
    "\n",
    "        # If done, plot and break loop\n",
    "        if done:\n",
    "            episode_durations.append(t + 1)\n",
    "            plot_durations()\n",
    "            break\n",
    "\n",
    "# Exit commands\n",
    "print('Complete')\n",
    "plot_durations(show_result=True)\n",
    "plt.ioff()\n",
    "plt.show()"
   ]
  },
  {
   "cell_type": "markdown",
   "id": "00c26aee",
   "metadata": {},
   "source": [
    "Actions are chosen either randomly or based on a policy, getting the next step sample from the gym environment. We record the results in the replay memory and also run optimization step on every iteration. Optimization picks a random batch from the replay memory to do training of the new policy. The “older” target_net is also used in optimization to compute the expected Q values. A soft update of its weights are performed at every step.\n",
    "\n",
    "Here is the diagram that illustrates the overall resulting data flow.\n",
    "\n",
    "![Overview of RL framework](./Images/Overview.png \"Overview of RL framework\")"
   ]
  }
 ],
 "metadata": {
  "kernelspec": {
   "display_name": "VirtualKernel",
   "language": "python",
   "name": ".venv"
  },
  "language_info": {
   "codemirror_mode": {
    "name": "ipython",
    "version": 3
   },
   "file_extension": ".py",
   "mimetype": "text/x-python",
   "name": "python",
   "nbconvert_exporter": "python",
   "pygments_lexer": "ipython3",
   "version": "3.12.10"
  }
 },
 "nbformat": 4,
 "nbformat_minor": 5
}
